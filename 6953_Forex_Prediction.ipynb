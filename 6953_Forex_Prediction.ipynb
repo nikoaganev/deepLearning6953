{
  "nbformat": 4,
  "nbformat_minor": 0,
  "metadata": {
    "colab": {
      "provenance": []
    },
    "kernelspec": {
      "name": "python3",
      "display_name": "Python 3"
    },
    "language_info": {
      "name": "python"
    }
  },
  "cells": [
    {
      "cell_type": "code",
      "source": [
        "# import the necessary libraries for accessing the MetaTrader API and implementing the LSTM model\n",
        "import meta_trader\n",
        "import tensorflow as tf\n",
        "from tensorflow.keras.models import Sequential\n",
        "from tensorflow.keras.layers import LSTM, Dense"
      ],
      "metadata": {
        "id": "OQc5Hb0HK_Dc"
      },
      "execution_count": null,
      "outputs": []
    },
    {
      "cell_type": "code",
      "source": [
        "# connect to the MetaTrader API and retrieve the FOREX data for a specific currency pair and time period\n",
        "api = meta_trader.connect('api_key')\n",
        "data = api.get_forex_data('EUR/USD', '2022-01-01', '2022-12-31')"
      ],
      "metadata": {
        "id": "Ebld5LZ6LHnq"
      },
      "execution_count": null,
      "outputs": []
    },
    {
      "cell_type": "code",
      "source": [
        "# preprocess the data and create a sliding window of past closing prices to use as input for the LSTM model\n",
        "train_data, test_data = data.split(0.8)\n",
        "x_train, y_train = train_data.create_sliding_window(3)\n",
        "x_test, y_test = test_data.create_sliding_window(3)"
      ],
      "metadata": {
        "id": "bP_nhOn4LHkh"
      },
      "execution_count": null,
      "outputs": []
    },
    {
      "cell_type": "code",
      "source": [
        "# define the LSTM model architecture and compile it\n",
        "model = Sequential()\n",
        "model.add(LSTM(10, input_shape=(3, 1)))\n",
        "model.add(Dense(1, activation='sigmoid'))\n",
        "model.compile(loss='binary_crossentropy', optimizer='adam', metrics=['accuracy'])"
      ],
      "metadata": {
        "id": "I2rvfOUCLHhg"
      },
      "execution_count": null,
      "outputs": []
    },
    {
      "cell_type": "code",
      "source": [
        "# fit the LSTM model to the training data\n",
        "history = model.fit(x_train, y_train, batch_size=32, epochs=10, validation_data=(x_test, y_test))"
      ],
      "metadata": {
        "id": "8VHFla-cLHee"
      },
      "execution_count": null,
      "outputs": []
    },
    {
      "cell_type": "code",
      "source": [
        "# use the trained LSTM model to make predictions on the test data\n",
        "predictions = model.predict(x_test)"
      ],
      "metadata": {
        "id": "RqZVySE4LHby"
      },
      "execution_count": null,
      "outputs": []
    },
    {
      "cell_type": "code",
      "source": [
        "# evaluate the model's performance\n",
        "score = model.evaluate(x_test, y_test, verbose=0)\n",
        "print('Test loss:', score[0])\n",
        "print('Test accuracy:', score[1])"
      ],
      "metadata": {
        "id": "wGt4K2zqLOIg"
      },
      "execution_count": null,
      "outputs": []
    },
    {
      "cell_type": "code",
      "source": [
        "# plot the model's training and validation accuracy and loss\n",
        "tf.keras.utils.plot_model(history, 'accuracy')\n",
        "tf.keras.utils.plot_model(history, 'loss')"
      ],
      "metadata": {
        "id": "JQc-iWEeLOGA"
      },
      "execution_count": null,
      "outputs": []
    },
    {
      "cell_type": "code",
      "source": [
        "# use the trained LSTM model to make a prediction on the FOREX direction of the next day closing price\n",
        "last_closing_prices = data.tail(3)\n",
        "x_next = last_closing_prices.create_sliding_window(3)\n",
        "prediction = model.predict(x_next)\n",
        "print('Predicted direction of next day closing price:', prediction)\n"
      ],
      "metadata": {
        "id": "pmWZN1KdK-_t"
      },
      "execution_count": null,
      "outputs": []
    }
  ]
}