{
 "cells": [
  {
   "cell_type": "code",
   "execution_count": 5,
   "id": "91b3d100",
   "metadata": {},
   "outputs": [],
   "source": [
    "\n",
    "from datetime import datetime\n",
    "import MetaTrader5 as mt5\n",
    "import pandas as pd\n",
    "pd.options.mode.chained_assignment = None  # default='warn'\n",
    "import pytz\n",
    "import warnings\n",
    "import os\n",
    "warnings.filterwarnings(\"ignore\")\n",
    "\n",
    "\n",
    "class forexData:\n",
    "    def __init__(self, pair, tradingTimeFrame = \"M15\"):\n",
    "        self.pair = pair\n",
    "        self.tradingTimeFrame = tradingTimeFrame \n",
    "        self.currentPrice = None\n",
    "        self.historical = None\n",
    "        self.lastUpdated = None\n",
    "                \n",
    "    def initialize(self, numberOfCandles = 100, timeZ =\"Etc/UTC\" ):\n",
    "        # This function returns a dataFrame of 100 historical candles for the trading pair\n",
    "        #  timeFrame options : M1, M5, M10, M15, M30, H1, H4, D1, W1\n",
    "        #from datetime import datetime\n",
    "        #import MetaTrader5 as mt5\n",
    "        #import pandas as pd\n",
    "        #import pytz\n",
    "        pair = self.pair\n",
    "        timeFrame = self.tradingTimeFrame\n",
    "        if not mt5.initialize():\n",
    "            print(\"initialize() failed, error code =\",mt5.last_error())\n",
    "            quit()\n",
    "\n",
    "        timezone = pytz.timezone(timeZ)\n",
    "        utc_from = datetime(datetime.now().year+1, datetime.now().month, datetime.now().day, tzinfo=timezone)\n",
    "        if timeFrame == \"M1\":\n",
    "            rates = mt5.copy_rates_from(pair, mt5.TIMEFRAME_M1, utc_from, numberOfCandles)\n",
    "        elif timeFrame == \"M5\":\n",
    "            rates = mt5.copy_rates_from(pair, mt5.TIMEFRAME_M5, utc_from, numberOfCandles)\n",
    "        elif timeFrame == \"M10\":\n",
    "            rates = mt5.copy_rates_from(pair, mt5.TIMEFRAME_M10, utc_from, numberOfCandles)\n",
    "        elif timeFrame == \"M15\":\n",
    "            rates = mt5.copy_rates_from(pair, mt5.TIMEFRAME_M15, utc_from, numberOfCandles)\n",
    "        elif timeFrame == \"M30\":\n",
    "            rates = mt5.copy_rates_from(pair, mt5.TIMEFRAME_M30, utc_from, numberOfCandles)\n",
    "        elif timeFrame == \"H1\":\n",
    "            rates = mt5.copy_rates_from(pair, mt5.TIMEFRAME_H1, utc_from, numberOfCandles)\n",
    "        elif timeFrame == \"H4\":\n",
    "            rates = mt5.copy_rates_from(pair, mt5.TIMEFRAME_H4, utc_from, numberOfCandles)\n",
    "        elif timeFrame == \"D1\":\n",
    "            rates = mt5.copy_rates_from(pair, mt5.TIMEFRAME_D1, utc_from, numberOfCandles)\n",
    "        elif timeFrame == \"W1\":\n",
    "            rates = mt5.copy_rates_from(pair, mt5.TIMEFRAME_W1, utc_from, numberOfCandles)\n",
    "\n",
    "        mt5.shutdown()\n",
    "    \n",
    "\n",
    "        # create DataFrame out of the obtained data\n",
    "        rates_frame = pd.DataFrame(rates)\n",
    "        # convert time in seconds into the datetime format\n",
    "        rates_frame['time']=pd.to_datetime(rates_frame['time'], unit='s')\n",
    "\n",
    "        self.historical =  rates_frame\n",
    "        self.lastUpdated = self.historical['time'][numberOfCandles-1]\n",
    "        self.currentPrice = self.historical['close'][numberOfCandles-1]\n",
    "            \n",
    "    \n",
    "    \n",
    "\n",
    "    \n",
    "    \n"
   ]
  },
  {
   "cell_type": "code",
   "execution_count": null,
   "id": "bc2dea20",
   "metadata": {},
   "outputs": [],
   "source": [
    "dataSize = 50000\n",
    "path = \"data\"\n",
    "isExist = os.path.exists(path)\n",
    "if not isExist:\n",
    "    os.makedirs(path)\n",
    "for pair in ['GBPUSD']:\n",
    "    print(\"Downloading data for pair\",pair)\n",
    "    for tradingTimeFrame in [\"M15\",\"M1\",\"M5\", \"H1\",\"H4\",\"D1\"]:\n",
    "        print(\"Timeframe: \",tradingTimeFrame)\n",
    "        f = forexData(pair,tradingTimeFrame)\n",
    "        f.initialize(dataSize)\n",
    "        path = f\"data/{pair}\"\n",
    "        isExist = os.path.exists(path)\n",
    "        if not isExist:\n",
    "            os.makedirs(path)\n",
    "        f.historical.to_csv(f\"data/{pair}/{tradingTimeFrame}.csv\")"
   ]
  },
  {
   "cell_type": "code",
   "execution_count": 12,
   "id": "e742e9d8",
   "metadata": {},
   "outputs": [
    {
     "data": {
      "text/plain": [
       "False"
      ]
     },
     "execution_count": 12,
     "metadata": {},
     "output_type": "execute_result"
    }
   ],
   "source": [
    "\n",
    "\n"
   ]
  },
  {
   "cell_type": "code",
   "execution_count": null,
   "id": "79986486",
   "metadata": {},
   "outputs": [],
   "source": []
  }
 ],
 "metadata": {
  "kernelspec": {
   "display_name": "Python 3 (ipykernel)",
   "language": "python",
   "name": "python3"
  },
  "language_info": {
   "codemirror_mode": {
    "name": "ipython",
    "version": 3
   },
   "file_extension": ".py",
   "mimetype": "text/x-python",
   "name": "python",
   "nbconvert_exporter": "python",
   "pygments_lexer": "ipython3",
   "version": "3.9.12"
  }
 },
 "nbformat": 4,
 "nbformat_minor": 5
}
